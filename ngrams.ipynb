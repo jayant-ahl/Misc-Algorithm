{
 "cells": [
  {
   "cell_type": "code",
   "execution_count": 1,
   "metadata": {
    "collapsed": false
   },
   "outputs": [],
   "source": [
    "import wikipedia\n",
    "import heapq\n",
    "import collections"
   ]
  },
  {
   "cell_type": "code",
   "execution_count": 2,
   "metadata": {
    "collapsed": true
   },
   "outputs": [],
   "source": [
    "def ngrams(text,n):\n",
    "    \"\"\" Returns all n-grams from text with their counts\n",
    "    n is an integer\n",
    "    text is a list of words(strings)\n",
    "    \"\"\"\n",
    "    output = []\n",
    "    \n",
    "    # Append all 3-grams in text\n",
    "    for i in range(len(text)-n+1):\n",
    "        output.append(tuple(text[i:i+n]))\n",
    "    \n",
    "    # Update counts of unique n-grams in a dictionary\n",
    "    counts = collections.defaultdict(int)\n",
    "    for item in output:\n",
    "            counts[item]+=1\n",
    "    \n",
    "    # items is list of 2-tuples where first element is the count \n",
    "    #nand the second is n-tuple representing the n-gram\n",
    "    items = [(y,x) for (x,y) in counts.items()]\n",
    "    return items\n",
    "    "
   ]
  },
  {
   "cell_type": "code",
   "execution_count": 3,
   "metadata": {
    "collapsed": true
   },
   "outputs": [],
   "source": [
    "def topNgrams(items, k):\n",
    "    \"\"\" Returns top k n-grams from list of tuples of count and n-grams\n",
    "    k is an integer\n",
    "    items is a list of 2-tuples returned by the function ngrams\n",
    "    \"\"\"\n",
    "    # A min heap is used since top k elements can be identified in O(nlogk) time. A traditional\n",
    "    # sort and select top-k would have taken O(nlogn) time\n",
    "    heap = []\n",
    "    for item in items:\n",
    "        if len(heap) < k or item[0] > heap[0][0]:\n",
    "            if len(heap)==10:\n",
    "                heapq.heappop(heap)\n",
    "            heapq.heappush(heap, item)\n",
    "    return heap"
   ]
  },
  {
   "cell_type": "code",
   "execution_count": 4,
   "metadata": {
    "collapsed": false
   },
   "outputs": [
    {
     "name": "stderr",
     "output_type": "stream",
     "text": [
      "/Library/Python/2.7/site-packages/requests/packages/urllib3/util/ssl_.py:100: InsecurePlatformWarning: A true SSLContext object is not available. This prevents urllib3 from configuring SSL appropriately and may cause certain SSL connections to fail. For more information, see https://urllib3.readthedocs.org/en/latest/security.html#insecureplatformwarning.\n",
      "  InsecurePlatformWarning\n",
      "/Library/Python/2.7/site-packages/requests/packages/urllib3/util/ssl_.py:100: InsecurePlatformWarning: A true SSLContext object is not available. This prevents urllib3 from configuring SSL appropriately and may cause certain SSL connections to fail. For more information, see https://urllib3.readthedocs.org/en/latest/security.html#insecureplatformwarning.\n",
      "  InsecurePlatformWarning\n",
      "/Library/Python/2.7/site-packages/requests/packages/urllib3/util/ssl_.py:100: InsecurePlatformWarning: A true SSLContext object is not available. This prevents urllib3 from configuring SSL appropriately and may cause certain SSL connections to fail. For more information, see https://urllib3.readthedocs.org/en/latest/security.html#insecureplatformwarning.\n",
      "  InsecurePlatformWarning\n"
     ]
    }
   ],
   "source": [
    "# Download content from wikipedia\n",
    "text = wikipedia.page(\"N-gram\").content\n",
    "text.lower()\n",
    "text=text.split()"
   ]
  },
  {
   "cell_type": "code",
   "execution_count": 5,
   "metadata": {
    "collapsed": false
   },
   "outputs": [
    {
     "name": "stdout",
     "output_type": "stream",
     "text": [
      " 1. serve as the         :        6\n",
      " 2. part of the          :        4\n",
      " 3. n-gram models are    :        4\n",
      " 4. the probability of   :        3\n",
      " 5. the number of        :        3\n",
      " 6. the language model   :        3\n",
      " 7. of a possible        :        3\n",
      " 8. have been used       :        3\n",
      " 9. can also be          :        3\n",
      "10. be used for          :        3\n"
     ]
    }
   ],
   "source": [
    "trigrams = ngrams(text,3)\n",
    "top10 = topNgrams(trigrams, 10)\n",
    "\n",
    "# Print top-10 n-grams\n",
    "for item, num in zip(sorted(top10, reverse=True),xrange(1,11)):\n",
    "    print '{0:>2}. {1:<20} : {2:>8}'.format(num, \" \".join(item[1]), item[0])"
   ]
  }
 ],
 "metadata": {
  "kernelspec": {
   "display_name": "Python 2",
   "language": "python",
   "name": "python2"
  },
  "language_info": {
   "codemirror_mode": {
    "name": "ipython",
    "version": 2
   },
   "file_extension": ".py",
   "mimetype": "text/x-python",
   "name": "python",
   "nbconvert_exporter": "python",
   "pygments_lexer": "ipython2",
   "version": "2.7.6"
  }
 },
 "nbformat": 4,
 "nbformat_minor": 0
}
