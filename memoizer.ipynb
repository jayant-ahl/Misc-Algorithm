{
 "cells": [
  {
   "cell_type": "code",
   "execution_count": 13,
   "metadata": {
    "collapsed": false
   },
   "outputs": [],
   "source": [
    "from collections import OrderedDict\n",
    "import time"
   ]
  },
  {
   "cell_type": "code",
   "execution_count": 35,
   "metadata": {
    "collapsed": false
   },
   "outputs": [],
   "source": [
    "class BoundedDict(OrderedDict):\n",
    "    \"\"\" Class to define a datastructure in which the results of memoization are stored\n",
    "    Extension of an ordereddict (which remembers order of insertion) to limi the size\n",
    "    \"\"\"\n",
    "    def __init__(self, *args, **kwargs):\n",
    "        self.max_len = kwargs.pop(\"max_len\", None)\n",
    "        OrderedDict.__init__(self, *args, **kwargs)\n",
    "        self._check_size()\n",
    "\n",
    "    def __setitem__(self, key, value):\n",
    "        OrderedDict.__setitem__(self, key, value)\n",
    "        self._check_size()\n",
    "\n",
    "    def _check_size(self):\n",
    "        if self.max_len is not None:\n",
    "            while len(self) > self.max_len:\n",
    "                self.popitem(last=False)\n",
    "    "
   ]
  },
  {
   "cell_type": "code",
   "execution_count": 36,
   "metadata": {
    "collapsed": false
   },
   "outputs": [],
   "source": [
    "def memoize(f, k):\n",
    "    \"\"\" Function to memoize a function\n",
    "    Args:\n",
    "        f: a function\n",
    "        k: size of a memoizer\n",
    "    \"\"\"\n",
    "    cache = BoundedDict(max_len = k)\n",
    "    def mem(x):\n",
    "        if x not in cache:\n",
    "            cache[x] = f(x) \n",
    "        #else:\n",
    "        return cache[x]\n",
    "    return mem"
   ]
  },
  {
   "cell_type": "code",
   "execution_count": 37,
   "metadata": {
    "collapsed": true
   },
   "outputs": [],
   "source": [
    "def fib(n):\n",
    "    \"\"\" Calculates the nth fibonacci number using recursion\n",
    "        Args:\n",
    "            n: an integer which term is to be calculated\n",
    "    \"\"\"\n",
    "    if n == 0:\n",
    "        return 0\n",
    "    elif n == 1:\n",
    "        return 1\n",
    "    else:\n",
    "        return fib(n-1) + fib(n-2)"
   ]
  },
  {
   "cell_type": "code",
   "execution_count": 38,
   "metadata": {
    "collapsed": false
   },
   "outputs": [
    {
     "name": "stdout",
     "output_type": "stream",
     "text": [
      "3\n",
      "0.000123023986816\n"
     ]
    }
   ],
   "source": [
    "start = time.time()\n",
    "print(fib(4))\n",
    "end = time.time()\n",
    "print(end-start)"
   ]
  },
  {
   "cell_type": "code",
   "execution_count": 39,
   "metadata": {
    "collapsed": false
   },
   "outputs": [
    {
     "name": "stdout",
     "output_type": "stream",
     "text": [
      "102334155\n",
      "0.000536203384399\n"
     ]
    }
   ],
   "source": [
    "fib = memoize(fib,3)\n",
    "start = time.time()\n",
    "print(fib(40))\n",
    "end = time.time()\n",
    "print(end-start)"
   ]
  },
  {
   "cell_type": "code",
   "execution_count": null,
   "metadata": {
    "collapsed": true
   },
   "outputs": [],
   "source": []
  }
 ],
 "metadata": {
  "kernelspec": {
   "display_name": "Python 2",
   "language": "python",
   "name": "python2"
  },
  "language_info": {
   "codemirror_mode": {
    "name": "ipython",
    "version": 2
   },
   "file_extension": ".py",
   "mimetype": "text/x-python",
   "name": "python",
   "nbconvert_exporter": "python",
   "pygments_lexer": "ipython2",
   "version": "2.7.6"
  }
 },
 "nbformat": 4,
 "nbformat_minor": 0
}
